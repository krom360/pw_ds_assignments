{
  "nbformat": 4,
  "nbformat_minor": 0,
  "metadata": {
    "colab": {
      "provenance": []
    },
    "kernelspec": {
      "name": "python3",
      "display_name": "Python 3"
    },
    "language_info": {
      "name": "python"
    }
  },
  "cells": [
    {
      "cell_type": "code",
      "execution_count": null,
      "metadata": {
        "id": "nqUbIPL9ptLv"
      },
      "outputs": [],
      "source": []
    },
    {
      "cell_type": "code",
      "source": [],
      "metadata": {
        "id": "QTxD_JCppwQX"
      },
      "execution_count": null,
      "outputs": []
    },
    {
      "cell_type": "markdown",
      "source": [
        "# Q1 . How do you comment code in Python? What are the different types of comments?\n"
      ],
      "metadata": {
        "id": "N5GzM2qAqZ4F"
      }
    },
    {
      "cell_type": "code",
      "source": [],
      "metadata": {
        "id": "U21XCqj5pwSR"
      },
      "execution_count": null,
      "outputs": []
    },
    {
      "cell_type": "markdown",
      "source": [
        "# Answer :\n",
        "## One can use the hash symbol (#) to create a single-line comment. Anything following the hash symbol on the same line is considered a comment and is ignored by the Python interprete . Python also supports multi-line comments, which are enclosed within triple quotes (\"\"\")."
      ],
      "metadata": {
        "id": "OJGbhqF3qfEf"
      }
    },
    {
      "cell_type": "code",
      "source": [],
      "metadata": {
        "id": "4CngYWAIpwV4"
      },
      "execution_count": null,
      "outputs": []
    },
    {
      "cell_type": "markdown",
      "source": [
        "# Q3 . What are variables in Python? How do you declare and assign values to variables?\n"
      ],
      "metadata": {
        "id": "ukgC6-4GrBfo"
      }
    },
    {
      "cell_type": "markdown",
      "source": [
        "# Answer \n",
        "## In Python, variables are used to store data values. A variable is like a container that holds a value, and you can give it a name so that you can refer to that value later in your code.\n",
        "\n",
        "## To declare a variable in Python, you simply choose a name for it and use the assignment operator (=) to assign a value to it"
      ],
      "metadata": {
        "id": "iSN8smDXrG8P"
      }
    },
    {
      "cell_type": "code",
      "source": [
        "ex. \n",
        "a = 2"
      ],
      "metadata": {
        "id": "NkmQqJYWpwX-"
      },
      "execution_count": null,
      "outputs": []
    },
    {
      "cell_type": "code",
      "source": [],
      "metadata": {
        "id": "qBTnRrq9pwcA"
      },
      "execution_count": null,
      "outputs": []
    },
    {
      "cell_type": "markdown",
      "source": [
        "# Q.3 How do you convert one data type to another in Python?\n"
      ],
      "metadata": {
        "id": "IfWBx4UHraWY"
      }
    },
    {
      "cell_type": "markdown",
      "source": [
        "# Answer:\n",
        "## In Python, you can convert one data type to another using type casting \n"
      ],
      "metadata": {
        "id": "Q44233fUribp"
      }
    },
    {
      "cell_type": "code",
      "source": [
        "# ex\n",
        "# to convert string to integer \n",
        "a = \"45\"\n",
        "type(a)\n",
        "b = int(a)\n",
        "type(b)\n"
      ],
      "metadata": {
        "colab": {
          "base_uri": "https://localhost:8080/"
        },
        "id": "NlbmM9FWpweY",
        "outputId": "15a70729-9e7e-4cd4-9046-15bde9e6ef91"
      },
      "execution_count": 2,
      "outputs": [
        {
          "output_type": "execute_result",
          "data": {
            "text/plain": [
              "int"
            ]
          },
          "metadata": {},
          "execution_count": 2
        }
      ]
    },
    {
      "cell_type": "code",
      "source": [],
      "metadata": {
        "id": "UVOjPkPypwi7"
      },
      "execution_count": null,
      "outputs": []
    },
    {
      "cell_type": "markdown",
      "source": [
        "# Q.4 How do you write and execute a Python script from the command line?\n"
      ],
      "metadata": {
        "id": "9udrN4FSsIT0"
      }
    },
    {
      "cell_type": "markdown",
      "source": [
        "# Answer: \n",
        "## First you have navigate to the folder or path where you have stored the python script . Suppose name of the python file is \"script.py\" .Then open the terminal and type  \"Python3 script.py\" and press enter\n"
      ],
      "metadata": {
        "id": "TMIWhJh1sQdv"
      }
    },
    {
      "cell_type": "code",
      "source": [],
      "metadata": {
        "id": "jeWhcdP5pwqf"
      },
      "execution_count": null,
      "outputs": []
    },
    {
      "cell_type": "markdown",
      "source": [
        "# Q.5 Given a list my_list = [1, 2, 3, 4, 5], write the code to slice the list and obtain the sub-list [2, 3].\n"
      ],
      "metadata": {
        "id": "7AHZbNFUtG4O"
      }
    },
    {
      "cell_type": "code",
      "source": [
        "my_list = [1,2,3,4,5]"
      ],
      "metadata": {
        "id": "u6zJJcxrpwuL"
      },
      "execution_count": 3,
      "outputs": []
    },
    {
      "cell_type": "code",
      "source": [
        "my_list[1:3]"
      ],
      "metadata": {
        "colab": {
          "base_uri": "https://localhost:8080/"
        },
        "id": "wOi1_8bfpwxI",
        "outputId": "3f66e364-8d47-45e7-c218-f1cdd541bb48"
      },
      "execution_count": 4,
      "outputs": [
        {
          "output_type": "execute_result",
          "data": {
            "text/plain": [
              "[2, 3]"
            ]
          },
          "metadata": {},
          "execution_count": 4
        }
      ]
    },
    {
      "cell_type": "code",
      "source": [],
      "metadata": {
        "id": "42qYyiLipw2L"
      },
      "execution_count": null,
      "outputs": []
    },
    {
      "cell_type": "markdown",
      "source": [
        "# Q.6 What is a complex number in mathematics, and how is it represented in Python?\n"
      ],
      "metadata": {
        "id": "GqLJKksCtept"
      }
    },
    {
      "cell_type": "markdown",
      "source": [
        "# Answer :\n",
        "## In mathematics, a complex number is a number that comprises both a real part and an imaginary part. It is represented in the form a + bi, where a is the real part and b is the imaginary part, and i represents the imaginary unit.The imaginary unit i is defined as the square root of -1."
      ],
      "metadata": {
        "id": "5yA86fewtm76"
      }
    },
    {
      "cell_type": "code",
      "source": [
        "# representation of complex numbers is python is \" z = a + bj \" where a and b are real numbers and j is square root of -1"
      ],
      "metadata": {
        "id": "HkyBLymGpw4b"
      },
      "execution_count": null,
      "outputs": []
    },
    {
      "cell_type": "code",
      "source": [
        "#ex \n",
        "z = 1 + 2j \n",
        "type(z)\n"
      ],
      "metadata": {
        "colab": {
          "base_uri": "https://localhost:8080/"
        },
        "id": "8fNnorW-pw6X",
        "outputId": "bab444da-57d3-4a58-f78e-51d746f501e6"
      },
      "execution_count": 7,
      "outputs": [
        {
          "output_type": "execute_result",
          "data": {
            "text/plain": [
              "complex"
            ]
          },
          "metadata": {},
          "execution_count": 7
        }
      ]
    },
    {
      "cell_type": "code",
      "source": [],
      "metadata": {
        "id": "Ds7ooGlzpw8R"
      },
      "execution_count": null,
      "outputs": []
    },
    {
      "cell_type": "markdown",
      "source": [
        "# Q.7 What is the correct way to declare a variable named age and assign the value 25 to it?\n"
      ],
      "metadata": {
        "id": "6p_Y5EyTuRie"
      }
    },
    {
      "cell_type": "code",
      "source": [
        "age = 25 "
      ],
      "metadata": {
        "id": "W8gN4XH8pw_x"
      },
      "execution_count": 8,
      "outputs": []
    },
    {
      "cell_type": "code",
      "source": [],
      "metadata": {
        "id": "hn2XhqBspxB2"
      },
      "execution_count": null,
      "outputs": []
    },
    {
      "cell_type": "markdown",
      "source": [
        "#. Q.8 Declare a variable named price and assign the value 9.99 to it. What data type does this variable belong to?\n"
      ],
      "metadata": {
        "id": "isrOyOEQuZtj"
      }
    },
    {
      "cell_type": "code",
      "source": [
        "price = 9.99"
      ],
      "metadata": {
        "id": "hn4RYBzqpxHi"
      },
      "execution_count": 9,
      "outputs": []
    },
    {
      "cell_type": "code",
      "source": [
        "type(price)"
      ],
      "metadata": {
        "colab": {
          "base_uri": "https://localhost:8080/"
        },
        "id": "PhDIsHNBpxMD",
        "outputId": "9fdd2433-1098-4d7a-ad41-49be8c0a3aac"
      },
      "execution_count": 10,
      "outputs": [
        {
          "output_type": "execute_result",
          "data": {
            "text/plain": [
              "float"
            ]
          },
          "metadata": {},
          "execution_count": 10
        }
      ]
    },
    {
      "cell_type": "markdown",
      "source": [
        "# Answer : Float"
      ],
      "metadata": {
        "id": "RDQ-MaaeumdN"
      }
    },
    {
      "cell_type": "code",
      "source": [],
      "metadata": {
        "id": "eIY0i7WYpxPU"
      },
      "execution_count": null,
      "outputs": []
    },
    {
      "cell_type": "markdown",
      "source": [
        "# Q.9 Create a variable named name and assign your full name to it as a string. How would you print the value of this variable?\n"
      ],
      "metadata": {
        "id": "pYIQTc1QurCt"
      }
    },
    {
      "cell_type": "code",
      "source": [
        "name = \"KUNAL MOTGHARE\""
      ],
      "metadata": {
        "id": "oTzZa-52pxTm"
      },
      "execution_count": 12,
      "outputs": []
    },
    {
      "cell_type": "code",
      "source": [
        "print(name)"
      ],
      "metadata": {
        "colab": {
          "base_uri": "https://localhost:8080/"
        },
        "id": "DLDh4LOXpxXO",
        "outputId": "c9c632ff-e956-4a80-8823-136c99ed7b35"
      },
      "execution_count": 13,
      "outputs": [
        {
          "output_type": "stream",
          "name": "stdout",
          "text": [
            "KUNAL MOOTGHARE\n"
          ]
        }
      ]
    },
    {
      "cell_type": "markdown",
      "source": [
        "# Q. 10 Given the string \"Hello, World!\", extract the substring \"World\".\n"
      ],
      "metadata": {
        "id": "gAIYkIScvBaU"
      }
    },
    {
      "cell_type": "code",
      "source": [
        "s = \"Hello, World!\""
      ],
      "metadata": {
        "id": "tVJFiMPRpxbA"
      },
      "execution_count": 14,
      "outputs": []
    },
    {
      "cell_type": "code",
      "source": [
        "s[7:13]"
      ],
      "metadata": {
        "colab": {
          "base_uri": "https://localhost:8080/",
          "height": 35
        },
        "id": "m9JGyr-fpxeN",
        "outputId": "6fe60129-bc22-4f5d-8f38-8ebeb7f7fc92"
      },
      "execution_count": 16,
      "outputs": [
        {
          "output_type": "execute_result",
          "data": {
            "text/plain": [
              "' World'"
            ],
            "application/vnd.google.colaboratory.intrinsic+json": {
              "type": "string"
            }
          },
          "metadata": {},
          "execution_count": 16
        }
      ]
    },
    {
      "cell_type": "code",
      "source": [],
      "metadata": {
        "id": "O9uJfsZ-pxgy"
      },
      "execution_count": null,
      "outputs": []
    },
    {
      "cell_type": "markdown",
      "source": [
        "# Q. 11 Create a variable named \"is_student\" and assign it a boolean value indicating whether you are currently a student or not."
      ],
      "metadata": {
        "id": "hddv6yNTwM3f"
      }
    },
    {
      "cell_type": "code",
      "source": [
        "is_student = True"
      ],
      "metadata": {
        "id": "BwEXeA_5pxlB"
      },
      "execution_count": 17,
      "outputs": []
    },
    {
      "cell_type": "code",
      "source": [],
      "metadata": {
        "id": "pK5rR6mXpxo-"
      },
      "execution_count": null,
      "outputs": []
    },
    {
      "cell_type": "code",
      "source": [],
      "metadata": {
        "id": "H5Ygep-7pxtZ"
      },
      "execution_count": null,
      "outputs": []
    },
    {
      "cell_type": "code",
      "source": [],
      "metadata": {
        "id": "sXWLQHfepxym"
      },
      "execution_count": null,
      "outputs": []
    },
    {
      "cell_type": "code",
      "source": [],
      "metadata": {
        "id": "eih6rbZKpx2l"
      },
      "execution_count": null,
      "outputs": []
    },
    {
      "cell_type": "code",
      "source": [],
      "metadata": {
        "id": "RdoCVGiCpx5e"
      },
      "execution_count": null,
      "outputs": []
    },
    {
      "cell_type": "code",
      "source": [],
      "metadata": {
        "id": "pamjozBGpx8O"
      },
      "execution_count": null,
      "outputs": []
    },
    {
      "cell_type": "code",
      "source": [],
      "metadata": {
        "id": "bUH6Vzdupx-8"
      },
      "execution_count": null,
      "outputs": []
    },
    {
      "cell_type": "code",
      "source": [],
      "metadata": {
        "id": "GiGnm-_YpyBG"
      },
      "execution_count": null,
      "outputs": []
    },
    {
      "cell_type": "code",
      "source": [],
      "metadata": {
        "id": "5qWWxhOQpyEz"
      },
      "execution_count": null,
      "outputs": []
    },
    {
      "cell_type": "code",
      "source": [],
      "metadata": {
        "id": "cEcoEpxKpyHW"
      },
      "execution_count": null,
      "outputs": []
    },
    {
      "cell_type": "code",
      "source": [],
      "metadata": {
        "id": "BhhJfZafpyKb"
      },
      "execution_count": null,
      "outputs": []
    },
    {
      "cell_type": "code",
      "source": [],
      "metadata": {
        "id": "YJtJoPl4pyOB"
      },
      "execution_count": null,
      "outputs": []
    },
    {
      "cell_type": "code",
      "source": [],
      "metadata": {
        "id": "ZZUT81OHpyRV"
      },
      "execution_count": null,
      "outputs": []
    },
    {
      "cell_type": "code",
      "source": [],
      "metadata": {
        "id": "-DxNzFOMpyUJ"
      },
      "execution_count": null,
      "outputs": []
    },
    {
      "cell_type": "code",
      "source": [],
      "metadata": {
        "id": "5-qzNSwypyWU"
      },
      "execution_count": null,
      "outputs": []
    },
    {
      "cell_type": "code",
      "source": [],
      "metadata": {
        "id": "mcc5hIvJpyZE"
      },
      "execution_count": null,
      "outputs": []
    },
    {
      "cell_type": "code",
      "source": [],
      "metadata": {
        "id": "3ZP66hOJpyb7"
      },
      "execution_count": null,
      "outputs": []
    },
    {
      "cell_type": "code",
      "source": [],
      "metadata": {
        "id": "3eE3KJYVpye1"
      },
      "execution_count": null,
      "outputs": []
    },
    {
      "cell_type": "code",
      "source": [],
      "metadata": {
        "id": "RuyejR4dpyho"
      },
      "execution_count": null,
      "outputs": []
    },
    {
      "cell_type": "code",
      "source": [],
      "metadata": {
        "id": "hD2Sel6ipykI"
      },
      "execution_count": null,
      "outputs": []
    },
    {
      "cell_type": "code",
      "source": [],
      "metadata": {
        "id": "FD31hybBpymi"
      },
      "execution_count": null,
      "outputs": []
    },
    {
      "cell_type": "code",
      "source": [],
      "metadata": {
        "id": "MRny7nPSpypE"
      },
      "execution_count": null,
      "outputs": []
    },
    {
      "cell_type": "code",
      "source": [],
      "metadata": {
        "id": "AVObDGS_pyq9"
      },
      "execution_count": null,
      "outputs": []
    },
    {
      "cell_type": "code",
      "source": [],
      "metadata": {
        "id": "jLVGURfcpyv4"
      },
      "execution_count": null,
      "outputs": []
    },
    {
      "cell_type": "code",
      "source": [],
      "metadata": {
        "id": "z-aWh4yFpyyf"
      },
      "execution_count": null,
      "outputs": []
    },
    {
      "cell_type": "code",
      "source": [],
      "metadata": {
        "id": "i25cwMdspy1C"
      },
      "execution_count": null,
      "outputs": []
    },
    {
      "cell_type": "code",
      "source": [],
      "metadata": {
        "id": "OvsZ1qeipy3S"
      },
      "execution_count": null,
      "outputs": []
    },
    {
      "cell_type": "code",
      "source": [],
      "metadata": {
        "id": "e3ZbuBIjpy5k"
      },
      "execution_count": null,
      "outputs": []
    },
    {
      "cell_type": "code",
      "source": [],
      "metadata": {
        "id": "W0nwsgaGpy75"
      },
      "execution_count": null,
      "outputs": []
    },
    {
      "cell_type": "code",
      "source": [],
      "metadata": {
        "id": "QTvMeaz1py-t"
      },
      "execution_count": null,
      "outputs": []
    },
    {
      "cell_type": "code",
      "source": [],
      "metadata": {
        "id": "JmQ3Wl0RpzBb"
      },
      "execution_count": null,
      "outputs": []
    },
    {
      "cell_type": "code",
      "source": [],
      "metadata": {
        "id": "ghKqbMo7pzDv"
      },
      "execution_count": null,
      "outputs": []
    },
    {
      "cell_type": "code",
      "source": [],
      "metadata": {
        "id": "LiLF_nyTpzGE"
      },
      "execution_count": null,
      "outputs": []
    },
    {
      "cell_type": "code",
      "source": [],
      "metadata": {
        "id": "WpuCTIWQpzI2"
      },
      "execution_count": null,
      "outputs": []
    },
    {
      "cell_type": "code",
      "source": [],
      "metadata": {
        "id": "Son0l13TpzLK"
      },
      "execution_count": null,
      "outputs": []
    },
    {
      "cell_type": "code",
      "source": [],
      "metadata": {
        "id": "qOc2Wgn-pzNh"
      },
      "execution_count": null,
      "outputs": []
    },
    {
      "cell_type": "code",
      "source": [],
      "metadata": {
        "id": "OCUcw3JBpzPz"
      },
      "execution_count": null,
      "outputs": []
    },
    {
      "cell_type": "code",
      "source": [],
      "metadata": {
        "id": "lHZviyU6pzSd"
      },
      "execution_count": null,
      "outputs": []
    },
    {
      "cell_type": "code",
      "source": [],
      "metadata": {
        "id": "ONfeQmR6pzU4"
      },
      "execution_count": null,
      "outputs": []
    },
    {
      "cell_type": "code",
      "source": [],
      "metadata": {
        "id": "iE1LlnWlpzXu"
      },
      "execution_count": null,
      "outputs": []
    },
    {
      "cell_type": "code",
      "source": [],
      "metadata": {
        "id": "Ja-CJMtdpzaf"
      },
      "execution_count": null,
      "outputs": []
    },
    {
      "cell_type": "code",
      "source": [],
      "metadata": {
        "id": "0frGvkUUpzeJ"
      },
      "execution_count": null,
      "outputs": []
    },
    {
      "cell_type": "code",
      "source": [],
      "metadata": {
        "id": "29vM5b7hpzgZ"
      },
      "execution_count": null,
      "outputs": []
    },
    {
      "cell_type": "code",
      "source": [],
      "metadata": {
        "id": "JRUJILszpzkH"
      },
      "execution_count": null,
      "outputs": []
    },
    {
      "cell_type": "code",
      "source": [],
      "metadata": {
        "id": "9sB5vfwNpzm8"
      },
      "execution_count": null,
      "outputs": []
    },
    {
      "cell_type": "code",
      "source": [],
      "metadata": {
        "id": "hlZE6tL9pzqQ"
      },
      "execution_count": null,
      "outputs": []
    },
    {
      "cell_type": "code",
      "source": [],
      "metadata": {
        "id": "BJvhFsaQpztD"
      },
      "execution_count": null,
      "outputs": []
    },
    {
      "cell_type": "code",
      "source": [],
      "metadata": {
        "id": "uez9zheypzx0"
      },
      "execution_count": null,
      "outputs": []
    },
    {
      "cell_type": "code",
      "source": [],
      "metadata": {
        "id": "rrRdJcWupz2Q"
      },
      "execution_count": null,
      "outputs": []
    },
    {
      "cell_type": "code",
      "source": [],
      "metadata": {
        "id": "t7vA07kjpz6S"
      },
      "execution_count": null,
      "outputs": []
    },
    {
      "cell_type": "code",
      "source": [],
      "metadata": {
        "id": "UUZ-Bspdpz-f"
      },
      "execution_count": null,
      "outputs": []
    },
    {
      "cell_type": "code",
      "source": [],
      "metadata": {
        "id": "E0MWKqGSp0CD"
      },
      "execution_count": null,
      "outputs": []
    }
  ]
}