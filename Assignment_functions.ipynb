{
  "nbformat": 4,
  "nbformat_minor": 0,
  "metadata": {
    "colab": {
      "provenance": []
    },
    "kernelspec": {
      "name": "python3",
      "display_name": "Python 3"
    },
    "language_info": {
      "name": "python"
    }
  },
  "cells": [
    {
      "cell_type": "code",
      "execution_count": null,
      "metadata": {
        "id": "v916m7dIkflx"
      },
      "outputs": [],
      "source": []
    },
    {
      "cell_type": "code",
      "source": [],
      "metadata": {
        "id": "r8pJsfKjkjtf"
      },
      "execution_count": null,
      "outputs": []
    },
    {
      "cell_type": "markdown",
      "source": [
        "# Q1. Which keyword is used to create a function? Create a function to return a list of odd numbers in the range of 1 to 25."
      ],
      "metadata": {
        "id": "OCoYdKPmkoe0"
      }
    },
    {
      "cell_type": "code",
      "source": [],
      "metadata": {
        "id": "-92o1Vtpkjv3"
      },
      "execution_count": null,
      "outputs": []
    },
    {
      "cell_type": "markdown",
      "source": [
        "## Answer : \"Def\" keyword is used to create a function "
      ],
      "metadata": {
        "id": "N8GX-PtPkuto"
      }
    },
    {
      "cell_type": "code",
      "source": [
        "def odd(l= range(1,26)):\n",
        "  l2 = []\n",
        "  for i in l :\n",
        "    if i%2 != 0:\n",
        "      l2.append(i)\n",
        "  return l2\n",
        "\n",
        "    "
      ],
      "metadata": {
        "id": "OOfbpplIkjy4"
      },
      "execution_count": 4,
      "outputs": []
    },
    {
      "cell_type": "code",
      "source": [
        "odd()"
      ],
      "metadata": {
        "colab": {
          "base_uri": "https://localhost:8080/"
        },
        "id": "bCmM7i3Zkj2q",
        "outputId": "18921262-ad63-4d72-e2b7-e4662a004c95"
      },
      "execution_count": 5,
      "outputs": [
        {
          "output_type": "execute_result",
          "data": {
            "text/plain": [
              "[1, 3, 5, 7, 9, 11, 13, 15, 17, 19, 21, 23, 25]"
            ]
          },
          "metadata": {},
          "execution_count": 5
        }
      ]
    },
    {
      "cell_type": "code",
      "source": [],
      "metadata": {
        "id": "tviim-o1kj5J"
      },
      "execution_count": null,
      "outputs": []
    },
    {
      "cell_type": "markdown",
      "source": [
        "# Q.2 Why * args and **kwargs is used in some functions? Create a function each for *args and **kwargs to demonstrate their use."
      ],
      "metadata": {
        "id": "oNwFlySVmKUr"
      }
    },
    {
      "cell_type": "code",
      "source": [],
      "metadata": {
        "id": "Sm6wRdhZkj7h"
      },
      "execution_count": null,
      "outputs": []
    },
    {
      "cell_type": "markdown",
      "source": [
        "## *args is used when we don't want to put any limit on number of arguments function can take.And  \"**kwargs\"  is used when we want our function to be able to take unlimited key value pairs as inputs "
      ],
      "metadata": {
        "id": "U1i83wxVmWzw"
      }
    },
    {
      "cell_type": "code",
      "source": [
        "def total(*args):\n",
        "  return sum(args)"
      ],
      "metadata": {
        "id": "7VMyKrblkj-s"
      },
      "execution_count": 6,
      "outputs": []
    },
    {
      "cell_type": "code",
      "source": [
        "total(4,9,6,9,23,6.9 , 77 , 42)"
      ],
      "metadata": {
        "colab": {
          "base_uri": "https://localhost:8080/"
        },
        "id": "ekeZCjM6kkBS",
        "outputId": "cdb72216-178b-4270-9425-30c39cebc91a"
      },
      "execution_count": 7,
      "outputs": [
        {
          "output_type": "execute_result",
          "data": {
            "text/plain": [
              "176.9"
            ]
          },
          "metadata": {},
          "execution_count": 7
        }
      ]
    },
    {
      "cell_type": "code",
      "source": [
        "def test1(**kwargs):\n",
        "  return kwargs"
      ],
      "metadata": {
        "id": "Z7NQQVLkkkDf"
      },
      "execution_count": 9,
      "outputs": []
    },
    {
      "cell_type": "code",
      "source": [
        "test1( a = 2 , b = 5 , c = 8 , d = True , e = \"Anami\")"
      ],
      "metadata": {
        "colab": {
          "base_uri": "https://localhost:8080/"
        },
        "id": "FVjm9CMFkkFu",
        "outputId": "5fa35b5a-3524-43df-c9a4-eadfc9f4caae"
      },
      "execution_count": 10,
      "outputs": [
        {
          "output_type": "execute_result",
          "data": {
            "text/plain": [
              "{'a': 2, 'b': 5, 'c': 8, 'd': True, 'e': 'Anami'}"
            ]
          },
          "metadata": {},
          "execution_count": 10
        }
      ]
    },
    {
      "cell_type": "code",
      "source": [],
      "metadata": {
        "id": "r9hm4sE-kkIs"
      },
      "execution_count": null,
      "outputs": []
    },
    {
      "cell_type": "markdown",
      "source": [
        "# Q.3 What is an iterator in python? Name the method used to initialise the iterator object and the method used for iteration. Use these methods to print the first five elements of the given list [2, 4, 6, 8, 10, 12, 14, 16, 18, 20]."
      ],
      "metadata": {
        "id": "_yK870sSofxP"
      }
    },
    {
      "cell_type": "code",
      "source": [],
      "metadata": {
        "id": "jmoHTpo9onkH"
      },
      "execution_count": null,
      "outputs": []
    },
    {
      "cell_type": "markdown",
      "source": [
        "## Answer : An iterator is an object that allows you to traverse a container (like a list) and access its elements one by one. It provides a way to loop over the elements without the need for an explicit index or keeping track of the iteration internally\n",
        "\n",
        "## To create an iterator object in Python, you can use the iter() function. This function takes an iterable object as its argument and returns an iterator object. The iterator object can then be used to iterate over the elements using the next() method"
      ],
      "metadata": {
        "id": "yaSiunQnpnbo"
      }
    },
    {
      "cell_type": "code",
      "source": [
        "l = [2, 4, 6, 8, 10, 12, 14, 16, 18, 20]\n",
        "\n",
        "for i in l[0:5]:\n",
        "  print(i)\n"
      ],
      "metadata": {
        "colab": {
          "base_uri": "https://localhost:8080/"
        },
        "id": "2GwINXqEonza",
        "outputId": "020ef51f-1114-4698-94f1-3fa2a79f6098"
      },
      "execution_count": 15,
      "outputs": [
        {
          "output_type": "stream",
          "name": "stdout",
          "text": [
            "2\n",
            "4\n",
            "6\n",
            "8\n",
            "10\n"
          ]
        }
      ]
    },
    {
      "cell_type": "code",
      "source": [],
      "metadata": {
        "id": "r5eZYxngon20"
      },
      "execution_count": null,
      "outputs": []
    },
    {
      "cell_type": "markdown",
      "source": [
        "# Q4. What is a generator function in python? Why yield keyword is used? Give an example of a generator function."
      ],
      "metadata": {
        "id": "xnNe_6zUqVMe"
      }
    },
    {
      "cell_type": "code",
      "source": [],
      "metadata": {
        "id": "xNIjUwXbon5j"
      },
      "execution_count": null,
      "outputs": []
    },
    {
      "cell_type": "markdown",
      "source": [
        "## Answer : A generator function is a special type of function that returns an iterator, which can be iterated over to retrieve a sequence of values. It is defined like a normal function but uses the yield keyword instead of the return keyword to yield values one at a time. \n",
        "\n",
        "## The yield keyword is used in generator functions to indicate that a value should be returned, but the state of the function should be saved so that it can be resumed from where it left off in the next iteration. When the generator function is called, it returns a generator object that can be iterated over using the next() function or a for loop. Each time the yield statement is encountered, the function's state is saved, and the yielded value is returned. The next time the generator is iterated, execution resumes from the last yield statement"
      ],
      "metadata": {
        "id": "fNrMkdGNqbt1"
      }
    },
    {
      "cell_type": "code",
      "source": [
        "def gen(n):\n",
        "  for i in range(1,n):\n",
        "    yield i**2\n"
      ],
      "metadata": {
        "id": "usuZJfM8on73"
      },
      "execution_count": 12,
      "outputs": []
    },
    {
      "cell_type": "code",
      "source": [
        "for i in gen(26):\n",
        "  print(i)"
      ],
      "metadata": {
        "colab": {
          "base_uri": "https://localhost:8080/"
        },
        "id": "dxHx39ucon-8",
        "outputId": "c13375a3-afca-47b9-cb6b-e5d333d0d201"
      },
      "execution_count": 13,
      "outputs": [
        {
          "output_type": "stream",
          "name": "stdout",
          "text": [
            "1\n",
            "4\n",
            "9\n",
            "16\n",
            "25\n",
            "36\n",
            "49\n",
            "64\n",
            "81\n",
            "100\n",
            "121\n",
            "144\n",
            "169\n",
            "196\n",
            "225\n",
            "256\n",
            "289\n",
            "324\n",
            "361\n",
            "400\n",
            "441\n",
            "484\n",
            "529\n",
            "576\n",
            "625\n"
          ]
        }
      ]
    },
    {
      "cell_type": "code",
      "source": [],
      "metadata": {
        "id": "j_9HG9A7ooB4"
      },
      "execution_count": null,
      "outputs": []
    },
    {
      "cell_type": "markdown",
      "source": [
        "# Q.5 Create a generator function for prime numbers less than 1000. Use the next() method to print the first 20 prime numbers."
      ],
      "metadata": {
        "id": "LUpfyYKFre32"
      }
    },
    {
      "cell_type": "code",
      "source": [
        "# This function can generate prime numbers upto n \n",
        "def prime(n):\n",
        "  \n",
        "  for i in range(2,n+1):\n",
        "    s = []\n",
        "    for j in range (2,i-1):\n",
        "      if i%j == 0 :\n",
        "        s.append(0) \n",
        "      else: \n",
        "        s.append(1)\n",
        "    if not (0 in s):\n",
        "      yield(i)\n",
        "    \n",
        "        \n",
        "        \n",
        "  "
      ],
      "metadata": {
        "id": "VUuy6PWOooEN"
      },
      "execution_count": 32,
      "outputs": []
    },
    {
      "cell_type": "code",
      "source": [
        "prime(10)"
      ],
      "metadata": {
        "colab": {
          "base_uri": "https://localhost:8080/"
        },
        "id": "zN3Tu1wSooGd",
        "outputId": "da7585b6-c918-40ce-8459-987a82142ca9"
      },
      "execution_count": 17,
      "outputs": [
        {
          "output_type": "execute_result",
          "data": {
            "text/plain": [
              "<generator object prime at 0x7f8d251fa110>"
            ]
          },
          "metadata": {},
          "execution_count": 17
        }
      ]
    },
    {
      "cell_type": "code",
      "source": [
        "# generating prime numbers less than 1000\n",
        "for i in prime(999):\n",
        "  print(i)"
      ],
      "metadata": {
        "colab": {
          "base_uri": "https://localhost:8080/"
        },
        "id": "DksQFzNqooJb",
        "outputId": "1032f27d-9b54-479b-cad3-fc536a81ecee"
      },
      "execution_count": 35,
      "outputs": [
        {
          "output_type": "stream",
          "name": "stdout",
          "text": [
            "2\n",
            "3\n",
            "5\n",
            "7\n",
            "11\n",
            "13\n",
            "17\n",
            "19\n",
            "23\n",
            "29\n",
            "31\n",
            "37\n",
            "41\n",
            "43\n",
            "47\n",
            "53\n",
            "59\n",
            "61\n",
            "67\n",
            "71\n",
            "73\n",
            "79\n",
            "83\n",
            "89\n",
            "97\n",
            "101\n",
            "103\n",
            "107\n",
            "109\n",
            "113\n",
            "127\n",
            "131\n",
            "137\n",
            "139\n",
            "149\n",
            "151\n",
            "157\n",
            "163\n",
            "167\n",
            "173\n",
            "179\n",
            "181\n",
            "191\n",
            "193\n",
            "197\n",
            "199\n",
            "211\n",
            "223\n",
            "227\n",
            "229\n",
            "233\n",
            "239\n",
            "241\n",
            "251\n",
            "257\n",
            "263\n",
            "269\n",
            "271\n",
            "277\n",
            "281\n",
            "283\n",
            "293\n",
            "307\n",
            "311\n",
            "313\n",
            "317\n",
            "331\n",
            "337\n",
            "347\n",
            "349\n",
            "353\n",
            "359\n",
            "367\n",
            "373\n",
            "379\n",
            "383\n",
            "389\n",
            "397\n",
            "401\n",
            "409\n",
            "419\n",
            "421\n",
            "431\n",
            "433\n",
            "439\n",
            "443\n",
            "449\n",
            "457\n",
            "461\n",
            "463\n",
            "467\n",
            "479\n",
            "487\n",
            "491\n",
            "499\n",
            "503\n",
            "509\n",
            "521\n",
            "523\n",
            "541\n",
            "547\n",
            "557\n",
            "563\n",
            "569\n",
            "571\n",
            "577\n",
            "587\n",
            "593\n",
            "599\n",
            "601\n",
            "607\n",
            "613\n",
            "617\n",
            "619\n",
            "631\n",
            "641\n",
            "643\n",
            "647\n",
            "653\n",
            "659\n",
            "661\n",
            "673\n",
            "677\n",
            "683\n",
            "691\n",
            "701\n",
            "709\n",
            "719\n",
            "727\n",
            "733\n",
            "739\n",
            "743\n",
            "751\n",
            "757\n",
            "761\n",
            "769\n",
            "773\n",
            "787\n",
            "797\n",
            "809\n",
            "811\n",
            "821\n",
            "823\n",
            "827\n",
            "829\n",
            "839\n",
            "853\n",
            "857\n",
            "859\n",
            "863\n",
            "877\n",
            "881\n",
            "883\n",
            "887\n",
            "907\n",
            "911\n",
            "919\n",
            "929\n",
            "937\n",
            "941\n",
            "947\n",
            "953\n",
            "967\n",
            "971\n",
            "977\n",
            "983\n",
            "991\n",
            "997\n"
          ]
        }
      ]
    },
    {
      "cell_type": "code",
      "source": [
        "# Using next() method to print first 20 prime numbers \n",
        "\n",
        "prime_gen = prime(999)\n",
        "\n",
        "for _ in range(20):\n",
        "    element = next(prime_gen)\n",
        "    print(element)"
      ],
      "metadata": {
        "colab": {
          "base_uri": "https://localhost:8080/"
        },
        "id": "S3ach3BLooOQ",
        "outputId": "1d06b407-9d36-4773-cdbf-9288ad1889dd"
      },
      "execution_count": 36,
      "outputs": [
        {
          "output_type": "stream",
          "name": "stdout",
          "text": [
            "2\n",
            "3\n",
            "5\n",
            "7\n",
            "11\n",
            "13\n",
            "17\n",
            "19\n",
            "23\n",
            "29\n",
            "31\n",
            "37\n",
            "41\n",
            "43\n",
            "47\n",
            "53\n",
            "59\n",
            "61\n",
            "67\n",
            "71\n"
          ]
        }
      ]
    },
    {
      "cell_type": "code",
      "source": [],
      "metadata": {
        "id": "jS2bG4WuooQV"
      },
      "execution_count": null,
      "outputs": []
    },
    {
      "cell_type": "code",
      "source": [],
      "metadata": {
        "id": "u_vEIw7IooT3"
      },
      "execution_count": 37,
      "outputs": []
    },
    {
      "cell_type": "code",
      "source": [],
      "metadata": {
        "id": "ED-GArKGooV-"
      },
      "execution_count": null,
      "outputs": []
    },
    {
      "cell_type": "code",
      "source": [],
      "metadata": {
        "id": "WEiMQgddooYD"
      },
      "execution_count": null,
      "outputs": []
    },
    {
      "cell_type": "code",
      "source": [],
      "metadata": {
        "id": "WbRA746xooag"
      },
      "execution_count": null,
      "outputs": []
    },
    {
      "cell_type": "code",
      "source": [],
      "metadata": {
        "id": "fl4yto2Cooc9"
      },
      "execution_count": null,
      "outputs": []
    }
  ]
}