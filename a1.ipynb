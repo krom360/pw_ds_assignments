{
  "nbformat": 4,
  "nbformat_minor": 0,
  "metadata": {
    "colab": {
      "provenance": []
    },
    "kernelspec": {
      "name": "python3",
      "display_name": "Python 3"
    },
    "language_info": {
      "name": "python"
    }
  },
  "cells": [
    {
      "cell_type": "code",
      "execution_count": null,
      "metadata": {
        "id": "deAsUSsFTYMo"
      },
      "outputs": [],
      "source": []
    },
    {
      "cell_type": "markdown",
      "source": [
        "# Kunal Motghare\n",
        "Data Science Masters 2.0 "
      ],
      "metadata": {
        "id": "Bfxl5xryjTPy"
      }
    },
    {
      "cell_type": "markdown",
      "source": [
        "## Q1. Create one variable containing following type of data:\n",
        "\n",
        "(i) string\n",
        "\n",
        "(ii) list\n",
        "\n",
        "(iii) float\n",
        "\n",
        "(iv) tuple\n",
        "\n"
      ],
      "metadata": {
        "id": "qXVcCrWGTxPm"
      }
    },
    {
      "cell_type": "code",
      "source": [
        "# string \n",
        "a = \"Thisa is my first assignment \""
      ],
      "metadata": {
        "id": "iCCtx9OUTu1z"
      },
      "execution_count": 1,
      "outputs": []
    },
    {
      "cell_type": "code",
      "source": [
        "# list \n",
        "b = [1, 2 , 4 , 7 , 8.4]"
      ],
      "metadata": {
        "id": "_lCmP2bMTu4N"
      },
      "execution_count": 2,
      "outputs": []
    },
    {
      "cell_type": "code",
      "source": [
        "#float\n",
        "c = 7.4"
      ],
      "metadata": {
        "id": "UwtSn9SrTu7z"
      },
      "execution_count": 3,
      "outputs": []
    },
    {
      "cell_type": "code",
      "source": [
        "# tuple\n",
        "d = (3 , 4 , 7 , 2 , 9 , 23 ,6 )"
      ],
      "metadata": {
        "id": "fnsoYoBLTu-R"
      },
      "execution_count": 5,
      "outputs": []
    },
    {
      "cell_type": "code",
      "source": [],
      "metadata": {
        "id": "b92vdSRCTvBm"
      },
      "execution_count": 6,
      "outputs": []
    },
    {
      "cell_type": "markdown",
      "source": [
        "# Q2. Given are some following variables containing data:\n",
        "\n",
        "(i) var1 = ‘ ‘\n",
        "\n",
        "(ii) var2 = ‘[ DS , ML , Python]’\n",
        "\n",
        "(iii) var3 = [ ‘DS’ , ’ML’ , ‘Python’ ]\n",
        "\n",
        "(iv) var4 = 1.\n",
        "\n",
        "\n",
        "What will be the data type of the above given variable"
      ],
      "metadata": {
        "id": "upgE4LRbUf8B"
      }
    },
    {
      "cell_type": "code",
      "source": [
        " var1 = ''\n",
        " var2 = '[ DS , ML , Python]'\n",
        "\n",
        " var3 =  [ 'DS', 'ML' , 'Python' ]\n",
        " var4 = 1."
      ],
      "metadata": {
        "id": "qMchcExUTvDt"
      },
      "execution_count": 8,
      "outputs": []
    },
    {
      "cell_type": "code",
      "source": [
        "type(var1) , type(var2) , type(var3) , type(var4)"
      ],
      "metadata": {
        "colab": {
          "base_uri": "https://localhost:8080/"
        },
        "id": "6TDI5Y2lTvHM",
        "outputId": "45cade8d-dc38-4a83-877d-eaebc81c794b"
      },
      "execution_count": 9,
      "outputs": [
        {
          "output_type": "execute_result",
          "data": {
            "text/plain": [
              "(str, str, list, float)"
            ]
          },
          "metadata": {},
          "execution_count": 9
        }
      ]
    },
    {
      "cell_type": "code",
      "source": [],
      "metadata": {
        "id": "UEy0-aYATvJo"
      },
      "execution_count": null,
      "outputs": []
    },
    {
      "cell_type": "markdown",
      "source": [
        "# Answer: \n",
        "i) String \n",
        "ii) String \n",
        "iii) List \n",
        "iv) Float"
      ],
      "metadata": {
        "id": "NXgeiThzVge7"
      }
    },
    {
      "cell_type": "code",
      "source": [],
      "metadata": {
        "id": "PVfLLu8LTvNg"
      },
      "execution_count": null,
      "outputs": []
    },
    {
      "cell_type": "markdown",
      "source": [
        "## Q3. Explain the use of the following operators using an example:\n",
        "\n",
        "(i) /\n",
        "\n",
        "(ii) %\n",
        "(iii) //\n",
        "\n",
        "(iv) **\n",
        "\n"
      ],
      "metadata": {
        "id": "lqA_rqJpVuBq"
      }
    },
    {
      "cell_type": "code",
      "source": [
        "# / is the division operator \n",
        "\n",
        "w = 3/2\n",
        "w"
      ],
      "metadata": {
        "colab": {
          "base_uri": "https://localhost:8080/"
        },
        "id": "JnmI4EpHTvQO",
        "outputId": "8a46cbcd-fb41-45de-a310-5902d6bedf40"
      },
      "execution_count": 10,
      "outputs": [
        {
          "output_type": "execute_result",
          "data": {
            "text/plain": [
              "1.5"
            ]
          },
          "metadata": {},
          "execution_count": 10
        }
      ]
    },
    {
      "cell_type": "code",
      "source": [
        "# % is modulo operator . It returns only remainder\n",
        "x = 3%2 \n",
        "x"
      ],
      "metadata": {
        "colab": {
          "base_uri": "https://localhost:8080/"
        },
        "id": "D9fquMVZTvU3",
        "outputId": "9aff26fe-2e5e-46b6-8b83-30309347b091"
      },
      "execution_count": 11,
      "outputs": [
        {
          "output_type": "execute_result",
          "data": {
            "text/plain": [
              "1"
            ]
          },
          "metadata": {},
          "execution_count": 11
        }
      ]
    },
    {
      "cell_type": "code",
      "source": [
        "# // only give quotient of the division without any decimal ponits \n",
        "y = 7//2 \n",
        "y "
      ],
      "metadata": {
        "colab": {
          "base_uri": "https://localhost:8080/"
        },
        "id": "qIDvmD3QTvXL",
        "outputId": "131a09cb-64a4-409e-f1ea-a42156b57544"
      },
      "execution_count": 12,
      "outputs": [
        {
          "output_type": "execute_result",
          "data": {
            "text/plain": [
              "3"
            ]
          },
          "metadata": {},
          "execution_count": 12
        }
      ]
    },
    {
      "cell_type": "code",
      "source": [
        "# ** is power operator \n",
        "\n",
        "z = 3**2 \n",
        "z "
      ],
      "metadata": {
        "colab": {
          "base_uri": "https://localhost:8080/"
        },
        "id": "3cYsXt4OTvZV",
        "outputId": "1266ccbb-379c-4402-b655-628827d86a5e"
      },
      "execution_count": 13,
      "outputs": [
        {
          "output_type": "execute_result",
          "data": {
            "text/plain": [
              "9"
            ]
          },
          "metadata": {},
          "execution_count": 13
        }
      ]
    },
    {
      "cell_type": "code",
      "source": [],
      "metadata": {
        "id": "td-Bw0bITvcB"
      },
      "execution_count": null,
      "outputs": []
    },
    {
      "cell_type": "markdown",
      "source": [
        "## Q4. Create a list of length 10 of your choice containing multiple types of data. Using for loop print the element and its data type.\n",
        "\n"
      ],
      "metadata": {
        "id": "UvzT-ZEAWuTw"
      }
    },
    {
      "cell_type": "code",
      "source": [
        "l2 = [\"Anamika\" ,\"Mehak\" , 4 , 2 , \"Pari\", 3 + 7j , 4.6 , True , [1,2,3], (4,7,3)]\n",
        "len(l2)"
      ],
      "metadata": {
        "colab": {
          "base_uri": "https://localhost:8080/"
        },
        "id": "UxHVbUqTTvgY",
        "outputId": "3ac0fe8b-fac2-4a69-b7dd-b2750240967b"
      },
      "execution_count": 14,
      "outputs": [
        {
          "output_type": "execute_result",
          "data": {
            "text/plain": [
              "10"
            ]
          },
          "metadata": {},
          "execution_count": 14
        }
      ]
    },
    {
      "cell_type": "code",
      "source": [
        "for i in l2 : \n",
        "\n",
        "  print(i , type(i))"
      ],
      "metadata": {
        "colab": {
          "base_uri": "https://localhost:8080/"
        },
        "id": "cyNGKdvxW-db",
        "outputId": "248339d6-7c92-49cd-f41f-b9a8a4006f22"
      },
      "execution_count": 18,
      "outputs": [
        {
          "output_type": "stream",
          "name": "stdout",
          "text": [
            "Anamika <class 'str'>\n",
            "Mehak <class 'str'>\n",
            "4 <class 'int'>\n",
            "2 <class 'int'>\n",
            "Pari <class 'str'>\n",
            "(3+7j) <class 'complex'>\n",
            "4.6 <class 'float'>\n",
            "True <class 'bool'>\n",
            "[1, 2, 3] <class 'list'>\n",
            "(4, 7, 3) <class 'tuple'>\n"
          ]
        }
      ]
    },
    {
      "cell_type": "code",
      "source": [],
      "metadata": {
        "id": "grBWSw9wW-gG"
      },
      "execution_count": null,
      "outputs": []
    },
    {
      "cell_type": "markdown",
      "source": [
        "# Q5. Using a while loop, verify if the number A is purely divisible by number B and if so then how many times it can be divisible.\n",
        "\n"
      ],
      "metadata": {
        "id": "ZB6DX5c6YRLr"
      }
    },
    {
      "cell_type": "code",
      "source": [
        "A = 5000\n",
        "B = 5 \n",
        "i = 0 \n",
        "\n",
        "while( A//B != 1):\n",
        "  if A%B != 0 :\n",
        "    print('A is not divisible by B')\n",
        "    break\n",
        "  A = A//B\n",
        "  i = i+1\n",
        "else:\n",
        "  print(\"A is {} times divisible by B\".format(i))\n",
        "  \n",
        "\n",
        "\n",
        "\n",
        " \n",
        "\n"
      ],
      "metadata": {
        "colab": {
          "base_uri": "https://localhost:8080/"
        },
        "id": "a029iFDCW-kW",
        "outputId": "387f9663-e5c3-4997-8aad-11293529ede5"
      },
      "execution_count": 22,
      "outputs": [
        {
          "output_type": "stream",
          "name": "stdout",
          "text": [
            "A is 4 times divisible by B\n"
          ]
        }
      ]
    },
    {
      "cell_type": "code",
      "source": [],
      "metadata": {
        "id": "dNc9pEdrW-qD"
      },
      "execution_count": null,
      "outputs": []
    },
    {
      "cell_type": "markdown",
      "source": [
        "# Q6. Create a list containing 25 int type data. Using for loop and if-else condition print if the element is divisible by 3 or not.\n",
        "\n"
      ],
      "metadata": {
        "id": "vt5ZFXKZfoYx"
      }
    },
    {
      "cell_type": "code",
      "source": [
        "l3 = [ 5 , 6 , 9 , 30 , 10 , 15 , 20 , 25 , 30 , 35 , 40 , 45 , 50 , 55 , 60 , 65 , 70 , 75 , 4 , 8 , 12 ,26 , 24 , 32 , 44  ]"
      ],
      "metadata": {
        "id": "uHJAuzdEW-uj"
      },
      "execution_count": 28,
      "outputs": []
    },
    {
      "cell_type": "code",
      "source": [
        "len(l3)"
      ],
      "metadata": {
        "colab": {
          "base_uri": "https://localhost:8080/"
        },
        "id": "BycpwwHdgQAC",
        "outputId": "e9bb03b3-094a-4685-8f6f-f3b3ca010556"
      },
      "execution_count": 29,
      "outputs": [
        {
          "output_type": "execute_result",
          "data": {
            "text/plain": [
              "25"
            ]
          },
          "metadata": {},
          "execution_count": 29
        }
      ]
    },
    {
      "cell_type": "code",
      "source": [
        "for i in l3:\n",
        "  if i%3 == 0 :\n",
        "    print(\"{}is divisible by 3\".format(i))\n",
        "  else:\n",
        "    print(f\"{i} is not divisible by 3\")"
      ],
      "metadata": {
        "colab": {
          "base_uri": "https://localhost:8080/"
        },
        "id": "6kAZEmPjgQEa",
        "outputId": "1491440a-9ea9-4a06-e13e-b8cd7eaae98d"
      },
      "execution_count": 30,
      "outputs": [
        {
          "output_type": "stream",
          "name": "stdout",
          "text": [
            "5 is not divisible by 3\n",
            "6is divisible by 3\n",
            "9is divisible by 3\n",
            "30is divisible by 3\n",
            "10 is not divisible by 3\n",
            "15is divisible by 3\n",
            "20 is not divisible by 3\n",
            "25 is not divisible by 3\n",
            "30is divisible by 3\n",
            "35 is not divisible by 3\n",
            "40 is not divisible by 3\n",
            "45is divisible by 3\n",
            "50 is not divisible by 3\n",
            "55 is not divisible by 3\n",
            "60is divisible by 3\n",
            "65 is not divisible by 3\n",
            "70 is not divisible by 3\n",
            "75is divisible by 3\n",
            "4 is not divisible by 3\n",
            "8 is not divisible by 3\n",
            "12is divisible by 3\n",
            "26 is not divisible by 3\n",
            "24is divisible by 3\n",
            "32 is not divisible by 3\n",
            "44 is not divisible by 3\n"
          ]
        }
      ]
    },
    {
      "cell_type": "code",
      "source": [],
      "metadata": {
        "id": "qxXtUMSPgQJ_"
      },
      "execution_count": null,
      "outputs": []
    },
    {
      "cell_type": "markdown",
      "source": [
        "# Q7. What do you understand about mutable and immutable data types? Give examples for both showing this property."
      ],
      "metadata": {
        "id": "yp43pr7Dhkpp"
      }
    },
    {
      "cell_type": "markdown",
      "source": [
        "# Answer : Elements in the mutable data types can be changed while elements in the imuutable data types can't be changed . Ex. List is a mutable data type , so its elenmts can be changed , deleted etc. , But , string and tuple in a immutable data types so it's elements can not be changed"
      ],
      "metadata": {
        "id": "W58M4oKkiQ68"
      }
    },
    {
      "cell_type": "code",
      "source": [
        "# ex\n",
        "l4 = [4 , 7 , 8 , 9]\n",
        "\n",
        "l4[1] = 54\n",
        "l4"
      ],
      "metadata": {
        "colab": {
          "base_uri": "https://localhost:8080/"
        },
        "id": "Cj5udqjjgQOf",
        "outputId": "7efb8b5b-79e1-4e13-efb0-33b85f3d3853"
      },
      "execution_count": 31,
      "outputs": [
        {
          "output_type": "execute_result",
          "data": {
            "text/plain": [
              "[4, 54, 8, 9]"
            ]
          },
          "metadata": {},
          "execution_count": 31
        }
      ]
    },
    {
      "cell_type": "code",
      "source": [
        "s = \"DataScience\""
      ],
      "metadata": {
        "id": "c3GJoN52gQUt"
      },
      "execution_count": 32,
      "outputs": []
    },
    {
      "cell_type": "code",
      "source": [
        "s[0]"
      ],
      "metadata": {
        "colab": {
          "base_uri": "https://localhost:8080/",
          "height": 35
        },
        "id": "o7v7MAbBgQbL",
        "outputId": "15ba01b5-15e3-41c7-ce13-39d4c95bd3ee"
      },
      "execution_count": 33,
      "outputs": [
        {
          "output_type": "execute_result",
          "data": {
            "text/plain": [
              "'D'"
            ],
            "application/vnd.google.colaboratory.intrinsic+json": {
              "type": "string"
            }
          },
          "metadata": {},
          "execution_count": 33
        }
      ]
    },
    {
      "cell_type": "code",
      "source": [
        "s[0] = 'K'"
      ],
      "metadata": {
        "colab": {
          "base_uri": "https://localhost:8080/",
          "height": 165
        },
        "id": "bl1VVNTogQhT",
        "outputId": "ae7d50a0-f69e-4c98-dba9-8575fe702eed"
      },
      "execution_count": 34,
      "outputs": [
        {
          "output_type": "error",
          "ename": "TypeError",
          "evalue": "ignored",
          "traceback": [
            "\u001b[0;31m---------------------------------------------------------------------------\u001b[0m",
            "\u001b[0;31mTypeError\u001b[0m                                 Traceback (most recent call last)",
            "\u001b[0;32m<ipython-input-34-83aeedcd7cfb>\u001b[0m in \u001b[0;36m<cell line: 1>\u001b[0;34m()\u001b[0m\n\u001b[0;32m----> 1\u001b[0;31m \u001b[0ms\u001b[0m\u001b[0;34m[\u001b[0m\u001b[0;36m0\u001b[0m\u001b[0;34m]\u001b[0m \u001b[0;34m=\u001b[0m \u001b[0;34m'K'\u001b[0m\u001b[0;34m\u001b[0m\u001b[0;34m\u001b[0m\u001b[0m\n\u001b[0m",
            "\u001b[0;31mTypeError\u001b[0m: 'str' object does not support item assignment"
          ]
        }
      ]
    },
    {
      "cell_type": "code",
      "source": [],
      "metadata": {
        "id": "c_Kve2LSgQmm"
      },
      "execution_count": null,
      "outputs": []
    },
    {
      "cell_type": "code",
      "source": [],
      "metadata": {
        "id": "0KamfqpDgQrr"
      },
      "execution_count": null,
      "outputs": []
    },
    {
      "cell_type": "code",
      "source": [],
      "metadata": {
        "id": "6rgot5j7gQxU"
      },
      "execution_count": null,
      "outputs": []
    },
    {
      "cell_type": "code",
      "source": [],
      "metadata": {
        "id": "MrM_L9lWgQ2X"
      },
      "execution_count": null,
      "outputs": []
    },
    {
      "cell_type": "code",
      "source": [],
      "metadata": {
        "id": "8pMG1sIEgQ61"
      },
      "execution_count": null,
      "outputs": []
    },
    {
      "cell_type": "code",
      "source": [],
      "metadata": {
        "id": "W3Os4wN0W-yB"
      },
      "execution_count": null,
      "outputs": []
    },
    {
      "cell_type": "code",
      "source": [],
      "metadata": {
        "id": "0bB2zQJhW-0n"
      },
      "execution_count": null,
      "outputs": []
    }
  ]
}